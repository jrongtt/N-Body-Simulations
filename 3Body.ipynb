{
 "cells": [
  {
   "cell_type": "code",
   "execution_count": 2,
   "id": "ef4646e3",
   "metadata": {},
   "outputs": [],
   "source": [
    "import numpy as np\n",
    "import matplotlib.pyplot as plt\n",
    "from scipy.integrate import odeint\n",
    "from scipy.integrate import solve_ivp\n",
    "from matplotlib import animation\n",
    "from mpl_toolkits.mplot3d import Axes3D\n",
    "from matplotlib.animation import PillowWriter"
   ]
  },
  {
   "cell_type": "markdown",
   "id": "71986257",
   "metadata": {},
   "source": [
    "Newton's Law of Gravity: $F = ma = G\\frac{Mm}{r^2}$. For a collection of masses in vector calculus terms:\n",
    "\n",
    "$$\\frac{d^2 \\overrightarrow{r}_i}{dt^2} = \\sum_{j \\neq i} \\frac{Gm_j}{r^3_{ij}}\\overrightarrow{r}_{ij}$$\n",
    "\n",
    "Where $\\overrightarrow{r}_i$ and $m_i$ is the location and mass of the ith particle and $\\overrightarrow{r}_{ij} = \\overrightarrow{r}_j- \\overrightarrow{r}_i$ (or the seperation vector)\n",
    "\n",
    "Non-Dimensionalize by setting G = 1:\n",
    "\n",
    "\n",
    "\n",
    "$$\\frac{d^2 \\overrightarrow{r}'_i}{dt^2} = \\sum_{j \\neq i} \\frac{m_j}{r'^3_{ij}}\\overrightarrow{r}'_{ij}$$\n",
    "\n",
    "Where:\n",
    "- $\\vec{r}_i' = \\vec{r}_i / L$ and $\\vec{r}_{ij}' = \\vec{r}_{ij} / L$ where $L$ is some characteristic length of the problem\n",
    "- $m_i' = m_i / M$ where $M$ is some characteristic length of the problem\n",
    "- $t' = t\\sqrt{GM/L^3}$ where $M$ and $L$ are the characteristic length and mass.\n",
    "\n",
    "\n",
    "\n",
    "All following code will drop primes assuming everything is dimensionless. We can solve for dimensionaless time $t'$ and then solve for t using\n",
    "\n",
    "$$ t = t' \\sqrt{L^3 /GM} $$"
   ]
  },
  {
   "cell_type": "markdown",
   "id": "d5cffed8",
   "metadata": {},
   "source": [
    "## 2 Body Problem\n",
    "\n",
    "Here we will set\n",
    "\n",
    "- $M$ = mass of earth = $5.97 \\times 10^{24} kg$\n",
    "- $L$ = earth-sun distance = $1.5 \\times 10^{11} m$"
   ]
  },
  {
   "cell_type": "code",
   "execution_count": 6,
   "id": "b7d2e9f5",
   "metadata": {},
   "outputs": [],
   "source": [
    "# m1 = 1\n",
    "m2 = 333000 # Sun mass relative to Earth\n",
    "x1_0 = 1 #initial position is one eart-sun away from sun\n",
    "y1_0 = 0\n",
    "x2_0 = 0\n",
    "y2_0 = 0\n",
    "vx1_0 = 0\n",
    "vy1_0 = np.sqrt(m2) #Circular motion v = sqrt(a*r) with a = m2 (Since G = 1, r12 = 1)\n",
    "vx2_0 = 0\n",
    "vy2_0 = 0"
   ]
  },
  {
   "cell_type": "markdown",
   "id": "4234eb01",
   "metadata": {},
   "source": [
    "Note that any second order ODE\n",
    "\n",
    "$$ \\frac{d^2 y}{dt^2} = F (y, \\frac{dy}{dt}, t) $$\n",
    "\n",
    "can be rewritte4d as two coupled first order ODEs when defining $v_y dy/dt$\n",
    "\n",
    "$$ \\frac{dy}{dt} = v_y$$\n",
    "\n",
    "$$ \\frac{dv_y}{dt} = F(y, v_y, t) $$\n",
    "\n",
    "So we define our system of things we need to solve for as:\n",
    "\n",
    "$$\\overrightarrow{S} = (x_1, y_1, x_2, y_2, v_{x1}, v_{y1}, v_{x2}, v_{y2}) $$\n",
    "\n",
    "\n",
    "and we need to write in a function that takes in $S$ and returns $\\frac{d\\overrightarrow{S}}{dt}$"
   ]
  },
  {
   "cell_type": "code",
   "execution_count": 7,
   "id": "71d64a5c",
   "metadata": {},
   "outputs": [],
   "source": [
    "def dSdt(S, t):\n",
    "    x1, y1, x2, y2, vx1, vy1, vx2, vy2 = S\n",
    "    r12 = np.sqrt((x2-x1)**2 + (y2-y1)**2)\n",
    "    return [ vx1,\n",
    "            vy1,\n",
    "            vx2,\n",
    "            vy2,\n",
    "            m2/r12**3 * (x2-x1),\n",
    "            m2/r12**3 * (y2-y1),\n",
    "            m1/r12**3 * (x1-x2),\n",
    "            m1/r12**3 * (y1-y2) ]"
   ]
  },
  {
   "cell_type": "code",
   "execution_count": 9,
   "id": "6e80f030",
   "metadata": {},
   "outputs": [],
   "source": [
    "#array of Times:\n",
    "\n",
    "t = np.linspace(0,1,10000) \n",
    "\n",
    "#Sol:\n",
    "sol = odeint(dSdt, y0=[x1_0, y1_0, x2_0, y2_0, vx1_0, vy1_0, vx2_0, vy2_0],\n",
    "             t=t)"
   ]
  },
  {
   "cell_type": "markdown",
   "id": "fadccba9",
   "metadata": {},
   "source": [
    "Plot x as a function of time:"
   ]
  },
  {
   "cell_type": "code",
   "execution_count": 10,
   "id": "96593f9e",
   "metadata": {},
   "outputs": [
    {
     "data": {
      "image/png": "[encoded data removed]",
      "text/plain": [
       "<Figure size 432x288 with 1 Axes>"
      ]
     },
     "metadata": {
      "needs_background": "light"
     },
     "output_type": "display_data"
    }
   ],
   "source": [
    "plt.plot(sol.T[0])\n",
    "plt.xlim(0,200)\n",
    "plt.grid()"
   ]
  },
  {
   "cell_type": "markdown",
   "id": "185c9841",
   "metadata": {},
   "source": [
    "Get time in years and find solution:"
   ]
  },
  {
   "cell_type": "code",
   "execution_count": 11,
   "id": "bef621be",
   "metadata": {},
   "outputs": [],
   "source": [
    "# 1) Convert to seconds (SI unit) using equation above\n",
    "tt = 1/np.sqrt(6.67e-11 * 5.97e24 / (1.5e11)**3 ) \n",
    "# 2) Convert from seconds to years\n",
    "tt = tt / (60*60 * 24* 365.25) * np.diff(t)[0] # per time step (in years)\n",
    "\n",
    "x1 = sol.T[0]\n",
    "y1 = sol.T[1]\n",
    "x2 = sol.T[2]\n",
    "y2 = sol.T[3]"
   ]
  },
  {
   "cell_type": "markdown",
   "id": "55f76314",
   "metadata": {},
   "source": [
    "Make Animation:"
   ]
  },
  {
   "cell_type": "code",
   "execution_count": 13,
   "id": "8d80414b",
   "metadata": {},
   "outputs": [
    {
     "data": {
      "image/png": "[encoded data removed]",
      "text/plain": [
       "<Figure size 576x576 with 1 Axes>"
      ]
     },
     "metadata": {
      "needs_background": "light"
     },
     "output_type": "display_data"
    }
   ],
   "source": [
    "def animate(i):\n",
    "    ln1.set_data([x1[i], x2[i]], [y1[i], y2[i]])\n",
    "    text.set_text('Time = {:.2f} Years'.format(i*tt))\n",
    "fig, ax = plt.subplots(1,1, figsize=(8,8))\n",
    "ax.grid()\n",
    "ln1, = plt.plot([], [], 'ro--', lw=3, markersize=8)\n",
    "text = plt.text(0.7, 0.7, '')\n",
    "ax.set_ylim(-5, 5)\n",
    "ax.set_xlim(-5,5)\n",
    "ani = animation.FuncAnimation(fig, animate, frames=200, interval=50)\n",
    "ani.save('plan.gif',writer='pillow',fps=30) "
   ]
  },
  {
   "cell_type": "code",
   "execution_count": null,
   "id": "d5fb78c9",
   "metadata": {},
   "outputs": [],
   "source": []
  }
 ],
 "metadata": {
  "kernelspec": {
   "display_name": "Python 3 (ipykernel)",
   "language": "python",
   "name": "python3"
  },
  "language_info": {
   "codemirror_mode": {
    "name": "ipython",
    "version": 3
   },
   "file_extension": ".py",
   "mimetype": "text/x-python",
   "name": "python",
   "nbconvert_exporter": "python",
   "pygments_lexer": "ipython3",
   "version": "3.9.12"
  }
 },
 "nbformat": 4,
 "nbformat_minor": 5
}
